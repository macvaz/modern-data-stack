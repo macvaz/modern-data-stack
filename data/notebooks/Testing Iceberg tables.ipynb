{
 "cells": [
  {
   "cell_type": "markdown",
   "id": "f84459bb-e35a-4fc4-a0f0-0d12b12ae892",
   "metadata": {},
   "source": [
    "# 1. Create schema in HMS"
   ]
  },
  {
   "cell_type": "code",
   "execution_count": 2,
   "id": "a9bf73e8-082c-40fa-b286-e20cd62dc737",
   "metadata": {},
   "outputs": [
    {
     "data": {
      "text/html": [
       "<table>\n",
       "    <tr>\n",
       "    </tr>\n",
       "</table>"
      ],
      "text/plain": [
       "++\n",
       "||\n",
       "++\n",
       "++"
      ]
     },
     "execution_count": 2,
     "metadata": {},
     "output_type": "execute_result"
    }
   ],
   "source": [
    "%%sql\n",
    "\n",
    "-- Check metastore status\n",
    "--show schemas from hms;\n",
    "--show tables from hms.nyc100;\n",
    "--drop table hms.nyc_taxis_db.test;\n",
    "--drop schema hms.nyc;\n",
    "\n",
    "CREATE DATABASE nyc_taxis_db LOCATION 's3a://datalake/warehouse/nyc_taxis_db';"
   ]
  },
  {
   "cell_type": "markdown",
   "id": "459939fd-079d-407e-8476-3d1dc22d98a2",
   "metadata": {},
   "source": [
    "# 2. Spark example with Python API"
   ]
  },
  {
   "cell_type": "code",
   "execution_count": 1,
   "id": "e6b1c24c-8a32-495e-8a73-be9a8ed30b13",
   "metadata": {},
   "outputs": [
    {
     "name": "stderr",
     "output_type": "stream",
     "text": [
      "24/03/26 21:01:17 WARN MetricsConfig: Cannot locate configuration: tried hadoop-metrics2-s3a-file-system.properties,hadoop-metrics2.properties\n"
     ]
    },
    {
     "name": "stdout",
     "output_type": "stream",
     "text": [
      "+-------------------+----------------------+--------------------+------------------+---------------------+----------------+-------------+----------------+-----------+--------+-------------------+\n",
      "|ProductCategoryName|ProductSubcategoryName|         ProductName|      CustomerName|SalesTerritoryCountry|SalesOrderNumber|OrderQuantity|TotalProductCost|SalesAmount|  TaxAmt|          OrderDate|\n",
      "+-------------------+----------------------+--------------------+------------------+---------------------+----------------+-------------+----------------+-----------+--------+-------------------+\n",
      "|              Bikes|            Road Bikes|    Road-150 Red, 62|       Cole Watson|               Canada|         SO43697|            1|       2171.2942|    3578.27|286.2616|2010-12-29 00:00:00|\n",
      "|              Bikes|        Mountain Bikes|Mountain-100 Silv...|  Rachael Martinez|               France|         SO43698|            1|       1912.1544|    3399.99|271.9992|2010-12-29 00:00:00|\n",
      "|              Bikes|        Mountain Bikes|Mountain-100 Silv...|     Sydney Wright|        United States|         SO43699|            1|       1912.1544|    3399.99|271.9992|2010-12-29 00:00:00|\n",
      "|              Bikes|            Road Bikes|  Road-650 Black, 62|      Ruben Prasad|        United States|         SO43700|            1|        413.1463|   699.0982| 55.9279|2010-12-29 00:00:00|\n",
      "|              Bikes|        Mountain Bikes|Mountain-100 Silv...|       Christy Zhu|            Australia|         SO43701|            1|       1912.1544|    3399.99|271.9992|2010-12-29 00:00:00|\n",
      "|              Bikes|            Road Bikes|    Road-150 Red, 44|       Colin Anand|        United States|         SO43702|            1|       2171.2942|    3578.27|286.2616|2010-12-30 00:00:00|\n",
      "|              Bikes|            Road Bikes|    Road-150 Red, 62|    Albert Alvarez|            Australia|         SO43703|            1|       2171.2942|    3578.27|286.2616|2010-12-30 00:00:00|\n",
      "|              Bikes|        Mountain Bikes|Mountain-100 Blac...|        Julio Ruiz|            Australia|         SO43704|            1|       1898.0944|    3374.99|269.9992|2010-12-30 00:00:00|\n",
      "|              Bikes|        Mountain Bikes|Mountain-100 Silv...|         Curtis Lu|            Australia|         SO43705|            1|       1912.1544|    3399.99|271.9992|2010-12-30 00:00:00|\n",
      "|              Bikes|            Road Bikes|    Road-150 Red, 48|      Edward Brown|        United States|         SO43706|            1|       2171.2942|    3578.27|286.2616|2010-12-31 00:00:00|\n",
      "|              Bikes|            Road Bikes|    Road-150 Red, 48|        Emma Brown|        United States|         SO43707|            1|       2171.2942|    3578.27|286.2616|2010-12-31 00:00:00|\n",
      "|              Bikes|            Road Bikes|    Road-650 Red, 52|         Brad Deng|       United Kingdom|         SO43708|            1|        413.1463|   699.0982| 55.9279|2010-12-31 00:00:00|\n",
      "|              Bikes|            Road Bikes|    Road-150 Red, 52|         Martha Xu|            Australia|         SO43709|            1|       2171.2942|    3578.27|286.2616|2010-12-31 00:00:00|\n",
      "|              Bikes|            Road Bikes|    Road-150 Red, 56|      Katrina Raji|            Australia|         SO43710|            1|       2171.2942|    3578.27|286.2616|2010-12-31 00:00:00|\n",
      "|              Bikes|            Road Bikes|    Road-150 Red, 56|  Courtney Edwards|        United States|         SO43711|            1|       2171.2942|    3578.27|286.2616|2011-01-01 00:00:00|\n",
      "|              Bikes|            Road Bikes|    Road-150 Red, 44| Abigail Henderson|              Germany|         SO43712|            1|       2171.2942|    3578.27|286.2616|2011-01-01 00:00:00|\n",
      "|              Bikes|            Road Bikes|    Road-150 Red, 62|     Sydney Rogers|        United States|         SO43713|            1|       2171.2942|    3578.27|286.2616|2011-01-02 00:00:00|\n",
      "|              Bikes|            Road Bikes|    Road-150 Red, 44|    Latasha Alonso|       United Kingdom|         SO43714|            1|       2171.2942|    3578.27|286.2616|2011-01-02 00:00:00|\n",
      "|              Bikes|            Road Bikes|    Road-150 Red, 56|        Warren Jai|            Australia|         SO43715|            1|       2171.2942|    3578.27|286.2616|2011-01-02 00:00:00|\n",
      "|              Bikes|            Road Bikes|    Road-150 Red, 44|Jonathon Gutierrez|            Australia|         SO43716|            1|       2171.2942|    3578.27|286.2616|2011-01-02 00:00:00|\n",
      "+-------------------+----------------------+--------------------+------------------+---------------------+----------------+-------------+----------------+-----------+--------+-------------------+\n",
      "only showing top 20 rows\n",
      "\n"
     ]
    }
   ],
   "source": [
    "initial_data_df = spark.read.parquet(\"s3a://datalake/files/sales_summary\")\n",
    "initial_data_df.show()"
   ]
  },
  {
   "cell_type": "markdown",
   "id": "e7cfac1d-271d-481b-ba4b-e087a8f83878",
   "metadata": {},
   "source": [
    "## 2.1 Create Iceberg table in HMS catalog"
   ]
  },
  {
   "cell_type": "code",
   "execution_count": 2,
   "id": "3d15b8ec-c4ff-4d30-ab6e-9d009696ac58",
   "metadata": {},
   "outputs": [],
   "source": [
    "TAXIS_TABLE=\"hms.nyc_taxis_db.trips\""
   ]
  },
  {
   "cell_type": "code",
   "execution_count": 7,
   "id": "cdf64691-2ae8-4059-ab06-50f947d9c4f6",
   "metadata": {},
   "outputs": [
    {
     "name": "stderr",
     "output_type": "stream",
     "text": [
      "                                                                                \r"
     ]
    }
   ],
   "source": [
    "initial_data_df.writeTo(TAXIS_TABLE).create()"
   ]
  },
  {
   "cell_type": "markdown",
   "id": "42f919f5-37e7-4443-b7ee-2543c1c78138",
   "metadata": {},
   "source": [
    "## 2.3 Read Hive table"
   ]
  },
  {
   "cell_type": "code",
   "execution_count": 8,
   "id": "854bd705-4d55-4062-9124-57826c9631a8",
   "metadata": {},
   "outputs": [
    {
     "name": "stdout",
     "output_type": "stream",
     "text": [
      "+-------------------+----------------------+--------------------+------------------+---------------------+----------------+-------------+----------------+-----------+--------+-------------------+\n",
      "|ProductCategoryName|ProductSubcategoryName|         ProductName|      CustomerName|SalesTerritoryCountry|SalesOrderNumber|OrderQuantity|TotalProductCost|SalesAmount|  TaxAmt|          OrderDate|\n",
      "+-------------------+----------------------+--------------------+------------------+---------------------+----------------+-------------+----------------+-----------+--------+-------------------+\n",
      "|              Bikes|            Road Bikes|    Road-150 Red, 62|       Cole Watson|               Canada|         SO43697|            1|       2171.2942|    3578.27|286.2616|2010-12-29 00:00:00|\n",
      "|              Bikes|        Mountain Bikes|Mountain-100 Silv...|  Rachael Martinez|               France|         SO43698|            1|       1912.1544|    3399.99|271.9992|2010-12-29 00:00:00|\n",
      "|              Bikes|        Mountain Bikes|Mountain-100 Silv...|     Sydney Wright|        United States|         SO43699|            1|       1912.1544|    3399.99|271.9992|2010-12-29 00:00:00|\n",
      "|              Bikes|            Road Bikes|  Road-650 Black, 62|      Ruben Prasad|        United States|         SO43700|            1|        413.1463|   699.0982| 55.9279|2010-12-29 00:00:00|\n",
      "|              Bikes|        Mountain Bikes|Mountain-100 Silv...|       Christy Zhu|            Australia|         SO43701|            1|       1912.1544|    3399.99|271.9992|2010-12-29 00:00:00|\n",
      "|              Bikes|            Road Bikes|    Road-150 Red, 44|       Colin Anand|        United States|         SO43702|            1|       2171.2942|    3578.27|286.2616|2010-12-30 00:00:00|\n",
      "|              Bikes|            Road Bikes|    Road-150 Red, 62|    Albert Alvarez|            Australia|         SO43703|            1|       2171.2942|    3578.27|286.2616|2010-12-30 00:00:00|\n",
      "|              Bikes|        Mountain Bikes|Mountain-100 Blac...|        Julio Ruiz|            Australia|         SO43704|            1|       1898.0944|    3374.99|269.9992|2010-12-30 00:00:00|\n",
      "|              Bikes|        Mountain Bikes|Mountain-100 Silv...|         Curtis Lu|            Australia|         SO43705|            1|       1912.1544|    3399.99|271.9992|2010-12-30 00:00:00|\n",
      "|              Bikes|            Road Bikes|    Road-150 Red, 48|      Edward Brown|        United States|         SO43706|            1|       2171.2942|    3578.27|286.2616|2010-12-31 00:00:00|\n",
      "|              Bikes|            Road Bikes|    Road-150 Red, 48|        Emma Brown|        United States|         SO43707|            1|       2171.2942|    3578.27|286.2616|2010-12-31 00:00:00|\n",
      "|              Bikes|            Road Bikes|    Road-650 Red, 52|         Brad Deng|       United Kingdom|         SO43708|            1|        413.1463|   699.0982| 55.9279|2010-12-31 00:00:00|\n",
      "|              Bikes|            Road Bikes|    Road-150 Red, 52|         Martha Xu|            Australia|         SO43709|            1|       2171.2942|    3578.27|286.2616|2010-12-31 00:00:00|\n",
      "|              Bikes|            Road Bikes|    Road-150 Red, 56|      Katrina Raji|            Australia|         SO43710|            1|       2171.2942|    3578.27|286.2616|2010-12-31 00:00:00|\n",
      "|              Bikes|            Road Bikes|    Road-150 Red, 56|  Courtney Edwards|        United States|         SO43711|            1|       2171.2942|    3578.27|286.2616|2011-01-01 00:00:00|\n",
      "|              Bikes|            Road Bikes|    Road-150 Red, 44| Abigail Henderson|              Germany|         SO43712|            1|       2171.2942|    3578.27|286.2616|2011-01-01 00:00:00|\n",
      "|              Bikes|            Road Bikes|    Road-150 Red, 62|     Sydney Rogers|        United States|         SO43713|            1|       2171.2942|    3578.27|286.2616|2011-01-02 00:00:00|\n",
      "|              Bikes|            Road Bikes|    Road-150 Red, 44|    Latasha Alonso|       United Kingdom|         SO43714|            1|       2171.2942|    3578.27|286.2616|2011-01-02 00:00:00|\n",
      "|              Bikes|            Road Bikes|    Road-150 Red, 56|        Warren Jai|            Australia|         SO43715|            1|       2171.2942|    3578.27|286.2616|2011-01-02 00:00:00|\n",
      "|              Bikes|            Road Bikes|    Road-150 Red, 44|Jonathon Gutierrez|            Australia|         SO43716|            1|       2171.2942|    3578.27|286.2616|2011-01-02 00:00:00|\n",
      "+-------------------+----------------------+--------------------+------------------+---------------------+----------------+-------------+----------------+-----------+--------+-------------------+\n",
      "only showing top 20 rows\n",
      "\n"
     ]
    }
   ],
   "source": [
    "spark.read.table(TAXIS_TABLE).show()"
   ]
  },
  {
   "cell_type": "markdown",
   "id": "7d6eced9-f6e8-487a-b7ae-9987b69e4c67",
   "metadata": {},
   "source": [
    "# 3. Spark SQL example"
   ]
  },
  {
   "cell_type": "code",
   "execution_count": 34,
   "id": "36a8b721-65cb-401e-9aca-06dfbe534f25",
   "metadata": {},
   "outputs": [
    {
     "data": {
      "text/html": [
       "<table>\n",
       "    <tr>\n",
       "    </tr>\n",
       "</table>"
      ],
      "text/plain": [
       "++\n",
       "||\n",
       "++\n",
       "++"
      ]
     },
     "execution_count": 34,
     "metadata": {},
     "output_type": "execute_result"
    }
   ],
   "source": [
    "%%sql\n",
    "CREATE TABLE hms.nyc100.taxis_new\n",
    "(\n",
    "  vendor_id bigint,\n",
    "  trip_id bigint,\n",
    "  trip_distance float,\n",
    "  fare_amount double,\n",
    "  store_and_fwd_flag string\n",
    ")\n",
    "PARTITIONED BY (vendor_id);"
   ]
  },
  {
   "cell_type": "code",
   "execution_count": 2,
   "id": "3c108d3d-b1d0-4af6-b9bf-bc9d2bfecfa9",
   "metadata": {},
   "outputs": [
    {
     "data": {
      "text/html": [
       "<table>\n",
       "    <tr>\n",
       "    </tr>\n",
       "</table>"
      ],
      "text/plain": [
       "++\n",
       "||\n",
       "++\n",
       "++"
      ]
     },
     "execution_count": 2,
     "metadata": {},
     "output_type": "execute_result"
    }
   ],
   "source": [
    "%%sql\n",
    "INSERT INTO hms.nyc100.taxis_new\n",
    "VALUES (1, 1000371, 1.8, 15.32, 'N'), (2, 1000372, 2.5, 22.15, 'N'), (2, 1000373, 0.9, 9.01, 'N'), (1, 1000374, 8.4, 42.13, 'Y');"
   ]
  },
  {
   "cell_type": "code",
   "execution_count": 3,
   "id": "7d83b01d-07e9-495c-9a44-a2feb454e272",
   "metadata": {},
   "outputs": [
    {
     "data": {
      "text/html": [
       "<table>\n",
       "    <tr>\n",
       "        <th>vendor_id</th>\n",
       "        <th>trip_id</th>\n",
       "        <th>trip_distance</th>\n",
       "        <th>fare_amount</th>\n",
       "        <th>store_and_fwd_flag</th>\n",
       "    </tr>\n",
       "    <tr>\n",
       "        <td>1</td>\n",
       "        <td>1000371</td>\n",
       "        <td>1.7999999523162842</td>\n",
       "        <td>15.32</td>\n",
       "        <td>N</td>\n",
       "    </tr>\n",
       "    <tr>\n",
       "        <td>1</td>\n",
       "        <td>1000374</td>\n",
       "        <td>8.399999618530273</td>\n",
       "        <td>42.13</td>\n",
       "        <td>Y</td>\n",
       "    </tr>\n",
       "    <tr>\n",
       "        <td>2</td>\n",
       "        <td>1000372</td>\n",
       "        <td>2.5</td>\n",
       "        <td>22.15</td>\n",
       "        <td>N</td>\n",
       "    </tr>\n",
       "    <tr>\n",
       "        <td>2</td>\n",
       "        <td>1000373</td>\n",
       "        <td>0.8999999761581421</td>\n",
       "        <td>9.01</td>\n",
       "        <td>N</td>\n",
       "    </tr>\n",
       "    <tr>\n",
       "        <td>1</td>\n",
       "        <td>1000371</td>\n",
       "        <td>1.7999999523162842</td>\n",
       "        <td>15.32</td>\n",
       "        <td>N</td>\n",
       "    </tr>\n",
       "    <tr>\n",
       "        <td>1</td>\n",
       "        <td>1000374</td>\n",
       "        <td>8.399999618530273</td>\n",
       "        <td>42.13</td>\n",
       "        <td>Y</td>\n",
       "    </tr>\n",
       "    <tr>\n",
       "        <td>2</td>\n",
       "        <td>1000372</td>\n",
       "        <td>2.5</td>\n",
       "        <td>22.15</td>\n",
       "        <td>N</td>\n",
       "    </tr>\n",
       "    <tr>\n",
       "        <td>2</td>\n",
       "        <td>1000373</td>\n",
       "        <td>0.8999999761581421</td>\n",
       "        <td>9.01</td>\n",
       "        <td>N</td>\n",
       "    </tr>\n",
       "</table>"
      ],
      "text/plain": [
       "+-----------+---------+--------------------+-------------+--------------------+\n",
       "| vendor_id | trip_id |      trip_distance | fare_amount | store_and_fwd_flag |\n",
       "+-----------+---------+--------------------+-------------+--------------------+\n",
       "|         1 | 1000371 | 1.7999999523162842 |       15.32 |                  N |\n",
       "|         1 | 1000374 |  8.399999618530273 |       42.13 |                  Y |\n",
       "|         2 | 1000372 |                2.5 |       22.15 |                  N |\n",
       "|         2 | 1000373 | 0.8999999761581421 |        9.01 |                  N |\n",
       "|         1 | 1000371 | 1.7999999523162842 |       15.32 |                  N |\n",
       "|         1 | 1000374 |  8.399999618530273 |       42.13 |                  Y |\n",
       "|         2 | 1000372 |                2.5 |       22.15 |                  N |\n",
       "|         2 | 1000373 | 0.8999999761581421 |        9.01 |                  N |\n",
       "+-----------+---------+--------------------+-------------+--------------------+"
      ]
     },
     "execution_count": 3,
     "metadata": {},
     "output_type": "execute_result"
    }
   ],
   "source": [
    "%%sql\n",
    "SELECT * FROM hms.nyc100.taxis_new;"
   ]
  }
 ],
 "metadata": {
  "kernelspec": {
   "display_name": "Python 3 (ipykernel)",
   "language": "python",
   "name": "python3"
  },
  "language_info": {
   "codemirror_mode": {
    "name": "ipython",
    "version": 3
   },
   "file_extension": ".py",
   "mimetype": "text/x-python",
   "name": "python",
   "nbconvert_exporter": "python",
   "pygments_lexer": "ipython3",
   "version": "3.9.17"
  }
 },
 "nbformat": 4,
 "nbformat_minor": 5
}
