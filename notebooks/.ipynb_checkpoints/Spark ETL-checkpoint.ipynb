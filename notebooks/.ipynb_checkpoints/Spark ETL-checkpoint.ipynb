{
 "cells": [
  {
   "cell_type": "markdown",
   "id": "e7cfac1d-271d-481b-ba4b-e087a8f83878",
   "metadata": {},
   "source": [
    "## Create Hive table"
   ]
  },
  {
   "cell_type": "code",
   "execution_count": 3,
   "id": "cdf64691-2ae8-4059-ab06-50f947d9c4f6",
   "metadata": {},
   "outputs": [
    {
     "name": "stderr",
     "output_type": "stream",
     "text": [
      "                                                                                \r"
     ]
    }
   ],
   "source": [
    "from pyspark.sql.types import DoubleType, FloatType, LongType, StructType,StructField, StringType\n",
    "\n",
    "schema = StructType([\n",
    "  StructField(\"vendor_id\", LongType(), True),\n",
    "  StructField(\"trip_id\", LongType(), True),\n",
    "  StructField(\"trip_distance\", FloatType(), True),\n",
    "  StructField(\"fare_amount\", DoubleType(), True),\n",
    "  StructField(\"store_and_fwd_flag\", StringType(), True)\n",
    "])\n",
    "\n",
    "df = spark.createDataFrame([], schema)\n",
    "df.writeTo(\"hms.nyc.taxis8\").create()"
   ]
  },
  {
   "cell_type": "markdown",
   "id": "42f919f5-37e7-4443-b7ee-2543c1c78138",
   "metadata": {},
   "source": [
    "## Read Hive table"
   ]
  },
  {
   "cell_type": "code",
   "execution_count": 4,
   "id": "854bd705-4d55-4062-9124-57826c9631a8",
   "metadata": {},
   "outputs": [
    {
     "name": "stdout",
     "output_type": "stream",
     "text": [
      "+---------+-------+-------------+-----------+------------------+\n",
      "|vendor_id|trip_id|trip_distance|fare_amount|store_and_fwd_flag|\n",
      "+---------+-------+-------------+-----------+------------------+\n",
      "+---------+-------+-------------+-----------+------------------+\n",
      "\n"
     ]
    }
   ],
   "source": [
    "spark.read.table(\"hms.nyc.taxis8\").show()"
   ]
  }
 ],
 "metadata": {
  "kernelspec": {
   "display_name": "Python 3 (ipykernel)",
   "language": "python",
   "name": "python3"
  },
  "language_info": {
   "codemirror_mode": {
    "name": "ipython",
    "version": 3
   },
   "file_extension": ".py",
   "mimetype": "text/x-python",
   "name": "python",
   "nbconvert_exporter": "python",
   "pygments_lexer": "ipython3",
   "version": "3.9.17"
  }
 },
 "nbformat": 4,
 "nbformat_minor": 5
}
