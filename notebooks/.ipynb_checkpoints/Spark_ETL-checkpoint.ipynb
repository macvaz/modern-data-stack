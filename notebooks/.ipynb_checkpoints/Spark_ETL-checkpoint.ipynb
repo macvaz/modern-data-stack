{
 "cells": [
  {
   "cell_type": "markdown",
   "id": "f84459bb-e35a-4fc4-a0f0-0d12b12ae892",
   "metadata": {},
   "source": [
    "# 1. Create databases (sales_db and trip_db) in HMS"
   ]
  },
  {
   "cell_type": "code",
   "execution_count": 12,
   "id": "a9bf73e8-082c-40fa-b286-e20cd62dc737",
   "metadata": {},
   "outputs": [
    {
     "data": {
      "text/html": [
       "<table>\n",
       "    <tr>\n",
       "    </tr>\n",
       "</table>"
      ],
      "text/plain": [
       "++\n",
       "||\n",
       "++\n",
       "++"
      ]
     },
     "execution_count": 12,
     "metadata": {},
     "output_type": "execute_result"
    }
   ],
   "source": [
    "%%sql\n",
    "\n",
    "-- Check metastore status\n",
    "--show schemas from hms;\n",
    "--show tables from hms.nyc100;\n",
    "--drop table hms.nyc_taxis_db.test;\n",
    "--drop schema hms.nyc;\n",
    "\n",
    "CREATE DATABASE sales_db LOCATION 's3a://lakehouse/warehouse/sales_db';\n",
    "CREATE DATABASE trip_db LOCATION 's3a://lakehouse/warehouse/trip_db';"
   ]
  },
  {
   "cell_type": "markdown",
   "id": "459939fd-079d-407e-8476-3d1dc22d98a2",
   "metadata": {},
   "source": [
    "# 2. Dataframe-based Spark example with Python API"
   ]
  },
  {
   "cell_type": "code",
   "execution_count": 13,
   "id": "4220195a-03e9-4cd6-9408-1f2a4c47f9c9",
   "metadata": {},
   "outputs": [],
   "source": [
    "SALES_TABLE=\"hms.sales_db.sales_summary\""
   ]
  },
  {
   "cell_type": "code",
   "execution_count": 3,
   "id": "e6b1c24c-8a32-495e-8a73-be9a8ed30b13",
   "metadata": {},
   "outputs": [
    {
     "name": "stdout",
     "output_type": "stream",
     "text": [
      "+-------------------+----------------------+--------------------+----------------+---------------------+----------------+-------------+----------------+-----------+--------+-------------------+\n",
      "|ProductCategoryName|ProductSubcategoryName|         ProductName|    CustomerName|SalesTerritoryCountry|SalesOrderNumber|OrderQuantity|TotalProductCost|SalesAmount|  TaxAmt|          OrderDate|\n",
      "+-------------------+----------------------+--------------------+----------------+---------------------+----------------+-------------+----------------+-----------+--------+-------------------+\n",
      "|              Bikes|            Road Bikes|    Road-150 Red, 62|     Cole Watson|               Canada|         SO43697|            1|       2171.2942|    3578.27|286.2616|2010-12-29 00:00:00|\n",
      "|              Bikes|        Mountain Bikes|Mountain-100 Silv...|Rachael Martinez|               France|         SO43698|            1|       1912.1544|    3399.99|271.9992|2010-12-29 00:00:00|\n",
      "|              Bikes|        Mountain Bikes|Mountain-100 Silv...|   Sydney Wright|        United States|         SO43699|            1|       1912.1544|    3399.99|271.9992|2010-12-29 00:00:00|\n",
      "|              Bikes|            Road Bikes|  Road-650 Black, 62|    Ruben Prasad|        United States|         SO43700|            1|        413.1463|   699.0982| 55.9279|2010-12-29 00:00:00|\n",
      "|              Bikes|        Mountain Bikes|Mountain-100 Silv...|     Christy Zhu|            Australia|         SO43701|            1|       1912.1544|    3399.99|271.9992|2010-12-29 00:00:00|\n",
      "+-------------------+----------------------+--------------------+----------------+---------------------+----------------+-------------+----------------+-----------+--------+-------------------+\n",
      "only showing top 5 rows\n",
      "\n"
     ]
    }
   ],
   "source": [
    "# loading parquet file from local storage\n",
    "sales_df = spark.read.parquet(\"/home/iceberg/datasets/sales\")\n",
    "sales_df.show(5)"
   ]
  },
  {
   "cell_type": "code",
   "execution_count": null,
   "id": "cdf64691-2ae8-4059-ab06-50f947d9c4f6",
   "metadata": {},
   "outputs": [],
   "source": [
    "# Create Iceberg table\n",
    "sales_df.writeTo(SALES_TABLE).create()"
   ]
  },
  {
   "cell_type": "code",
   "execution_count": 7,
   "id": "854bd705-4d55-4062-9124-57826c9631a8",
   "metadata": {},
   "outputs": [
    {
     "name": "stdout",
     "output_type": "stream",
     "text": [
      "+-------------------+----------------------+--------------------+----------------+---------------------+----------------+-------------+----------------+-----------+--------+-------------------+\n",
      "|ProductCategoryName|ProductSubcategoryName|         ProductName|    CustomerName|SalesTerritoryCountry|SalesOrderNumber|OrderQuantity|TotalProductCost|SalesAmount|  TaxAmt|          OrderDate|\n",
      "+-------------------+----------------------+--------------------+----------------+---------------------+----------------+-------------+----------------+-----------+--------+-------------------+\n",
      "|              Bikes|            Road Bikes|    Road-150 Red, 62|     Cole Watson|               Canada|         SO43697|            1|       2171.2942|    3578.27|286.2616|2010-12-29 00:00:00|\n",
      "|              Bikes|        Mountain Bikes|Mountain-100 Silv...|Rachael Martinez|               France|         SO43698|            1|       1912.1544|    3399.99|271.9992|2010-12-29 00:00:00|\n",
      "|              Bikes|        Mountain Bikes|Mountain-100 Silv...|   Sydney Wright|        United States|         SO43699|            1|       1912.1544|    3399.99|271.9992|2010-12-29 00:00:00|\n",
      "|              Bikes|            Road Bikes|  Road-650 Black, 62|    Ruben Prasad|        United States|         SO43700|            1|        413.1463|   699.0982| 55.9279|2010-12-29 00:00:00|\n",
      "|              Bikes|        Mountain Bikes|Mountain-100 Silv...|     Christy Zhu|            Australia|         SO43701|            1|       1912.1544|    3399.99|271.9992|2010-12-29 00:00:00|\n",
      "+-------------------+----------------------+--------------------+----------------+---------------------+----------------+-------------+----------------+-----------+--------+-------------------+\n",
      "only showing top 5 rows\n",
      "\n"
     ]
    }
   ],
   "source": [
    "# Read Iceberg table\n",
    "spark.read.table(SALES_TABLE).show(5)"
   ]
  },
  {
   "cell_type": "markdown",
   "id": "7d6eced9-f6e8-487a-b7ae-9987b69e4c67",
   "metadata": {},
   "source": [
    "# 3. Spark-SQL example"
   ]
  },
  {
   "cell_type": "code",
   "execution_count": 16,
   "id": "50670488-3ef3-4099-afae-6e6e261a4513",
   "metadata": {},
   "outputs": [],
   "source": [
    "TAXIS_TABLE=\"hms.trip_db.trips\""
   ]
  },
  {
   "cell_type": "code",
   "execution_count": 17,
   "id": "36a8b721-65cb-401e-9aca-06dfbe534f25",
   "metadata": {},
   "outputs": [
    {
     "data": {
      "text/html": [
       "<table>\n",
       "    <tr>\n",
       "    </tr>\n",
       "</table>"
      ],
      "text/plain": [
       "++\n",
       "||\n",
       "++\n",
       "++"
      ]
     },
     "execution_count": 17,
     "metadata": {},
     "output_type": "execute_result"
    }
   ],
   "source": [
    "%%sql\n",
    "CREATE TABLE hms.trip_db.trips\n",
    "(\n",
    "  vendor_id bigint,\n",
    "  trip_id bigint,\n",
    "  trip_distance float,\n",
    "  fare_amount double,\n",
    "  store_and_fwd_flag string\n",
    ")\n",
    "PARTITIONED BY (vendor_id);"
   ]
  },
  {
   "cell_type": "code",
   "execution_count": 18,
   "id": "3c108d3d-b1d0-4af6-b9bf-bc9d2bfecfa9",
   "metadata": {},
   "outputs": [
    {
     "data": {
      "text/html": [
       "<table>\n",
       "    <tr>\n",
       "    </tr>\n",
       "</table>"
      ],
      "text/plain": [
       "++\n",
       "||\n",
       "++\n",
       "++"
      ]
     },
     "execution_count": 18,
     "metadata": {},
     "output_type": "execute_result"
    }
   ],
   "source": [
    "%%sql\n",
    "INSERT INTO hms.trip_db.trips\n",
    "VALUES (1, 1000371, 1.8, 15.32, 'N'), (2, 1000372, 2.5, 22.15, 'N'), (2, 1000373, 0.9, 9.01, 'N'), (1, 1000374, 8.4, 42.13, 'Y');"
   ]
  },
  {
   "cell_type": "code",
   "execution_count": 19,
   "id": "7d83b01d-07e9-495c-9a44-a2feb454e272",
   "metadata": {},
   "outputs": [
    {
     "data": {
      "text/html": [
       "<table>\n",
       "    <tr>\n",
       "        <th>vendor_id</th>\n",
       "        <th>trip_id</th>\n",
       "        <th>trip_distance</th>\n",
       "        <th>fare_amount</th>\n",
       "        <th>store_and_fwd_flag</th>\n",
       "    </tr>\n",
       "    <tr>\n",
       "        <td>1</td>\n",
       "        <td>1000371</td>\n",
       "        <td>1.7999999523162842</td>\n",
       "        <td>15.32</td>\n",
       "        <td>N</td>\n",
       "    </tr>\n",
       "    <tr>\n",
       "        <td>1</td>\n",
       "        <td>1000374</td>\n",
       "        <td>8.399999618530273</td>\n",
       "        <td>42.13</td>\n",
       "        <td>Y</td>\n",
       "    </tr>\n",
       "    <tr>\n",
       "        <td>2</td>\n",
       "        <td>1000372</td>\n",
       "        <td>2.5</td>\n",
       "        <td>22.15</td>\n",
       "        <td>N</td>\n",
       "    </tr>\n",
       "    <tr>\n",
       "        <td>2</td>\n",
       "        <td>1000373</td>\n",
       "        <td>0.8999999761581421</td>\n",
       "        <td>9.01</td>\n",
       "        <td>N</td>\n",
       "    </tr>\n",
       "</table>"
      ],
      "text/plain": [
       "+-----------+---------+--------------------+-------------+--------------------+\n",
       "| vendor_id | trip_id |      trip_distance | fare_amount | store_and_fwd_flag |\n",
       "+-----------+---------+--------------------+-------------+--------------------+\n",
       "|         1 | 1000371 | 1.7999999523162842 |       15.32 |                  N |\n",
       "|         1 | 1000374 |  8.399999618530273 |       42.13 |                  Y |\n",
       "|         2 | 1000372 |                2.5 |       22.15 |                  N |\n",
       "|         2 | 1000373 | 0.8999999761581421 |        9.01 |                  N |\n",
       "+-----------+---------+--------------------+-------------+--------------------+"
      ]
     },
     "execution_count": 19,
     "metadata": {},
     "output_type": "execute_result"
    }
   ],
   "source": [
    "%%sql\n",
    "SELECT * FROM  hms.trip_db.trips;"
   ]
  }
 ],
 "metadata": {
  "kernelspec": {
   "display_name": "Python 3 (ipykernel)",
   "language": "python",
   "name": "python3"
  },
  "language_info": {
   "codemirror_mode": {
    "name": "ipython",
    "version": 3
   },
   "file_extension": ".py",
   "mimetype": "text/x-python",
   "name": "python",
   "nbconvert_exporter": "python",
   "pygments_lexer": "ipython3",
   "version": "3.9.17"
  }
 },
 "nbformat": 4,
 "nbformat_minor": 5
}
