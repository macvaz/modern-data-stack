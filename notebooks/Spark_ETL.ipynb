{
 "cells": [
  {
   "cell_type": "markdown",
   "id": "f84459bb-e35a-4fc4-a0f0-0d12b12ae892",
   "metadata": {},
   "source": [
    "# 1. Create database 'data_db' in HMS"
   ]
  },
  {
   "cell_type": "code",
   "execution_count": 1,
   "id": "a9bf73e8-082c-40fa-b286-e20cd62dc737",
   "metadata": {},
   "outputs": [
    {
     "name": "stderr",
     "output_type": "stream",
     "text": [
      "24/03/29 10:23:30 WARN SparkSession: Using an existing Spark session; only runtime SQL configurations will take effect.\n"
     ]
    },
    {
     "data": {
      "text/html": [
       "<table>\n",
       "    <tr>\n",
       "    </tr>\n",
       "</table>"
      ],
      "text/plain": [
       "++\n",
       "||\n",
       "++\n",
       "++"
      ]
     },
     "execution_count": 1,
     "metadata": {},
     "output_type": "execute_result"
    }
   ],
   "source": [
    "%%sql\n",
    "\n",
    "-- Check metastore status\n",
    "--show schemas from hms;\n",
    "--show tables from hms.data_db;\n",
    "--drop table hms.data_db.test;\n",
    "--drop schema hms.data_db;\n",
    "\n",
    "CREATE DATABASE data_db LOCATION 's3a://lakehouse/warehouse/data_db';"
   ]
  },
  {
   "cell_type": "markdown",
   "id": "459939fd-079d-407e-8476-3d1dc22d98a2",
   "metadata": {},
   "source": [
    "# 2. Create and populate 'olympics' data model"
   ]
  },
  {
   "cell_type": "code",
   "execution_count": 30,
   "id": "96976c98-8a87-4275-a2d6-3e5ac09f008c",
   "metadata": {},
   "outputs": [],
   "source": [
    "EVENTS_TABLE=\"hms.data_db.olympic_events\"\n",
    "REGIONS_TABLE=\"hms.data_db.olympic_regions\""
   ]
  },
  {
   "cell_type": "code",
   "execution_count": 78,
   "id": "dd52f1cc-047d-4aeb-9fcb-b7005be0559d",
   "metadata": {},
   "outputs": [],
   "source": [
    "%%sh\n",
    "# Wait until it downloads the dataset (5 MBs)\n",
    "wget https://techtfq.com/s/Olympics_data.zip -q -O /home/iceberg/datasets/olympics/olympics.zip"
   ]
  },
  {
   "cell_type": "code",
   "execution_count": 79,
   "id": "60215633-7db7-415e-86f7-d030d7fda572",
   "metadata": {},
   "outputs": [
    {
     "name": "stdout",
     "output_type": "stream",
     "text": [
      "Archive:  /home/iceberg/datasets/olympics/olympics.zip\n",
      "  inflating: /home/iceberg/datasets/olympics/athlete_events.csv  \n",
      "  inflating: /home/iceberg/datasets/olympics/noc_regions.csv  \n"
     ]
    }
   ],
   "source": [
    "%%sh\n",
    "# Extracting csv files from zip\n",
    "unzip /home/iceberg/datasets/olympics/olympics.zip -d /home/iceberg/datasets/olympics"
   ]
  },
  {
   "cell_type": "code",
   "execution_count": 64,
   "id": "db68a963-e905-4772-94e2-87a25e553ed5",
   "metadata": {},
   "outputs": [
    {
     "name": "stdout",
     "output_type": "stream",
     "text": [
      "+---+---------+---+---+------+------+-----+---+-----------+----+------+---------+----------+--------------------+-----+\n",
      "| ID|     Name|Sex|Age|Height|Weight| Team|NOC|      Games|Year|Season|     City|     Sport|               Event|Medal|\n",
      "+---+---------+---+---+------+------+-----+---+-----------+----+------+---------+----------+--------------------+-----+\n",
      "|  1|A Dijiang|  M| 24|   180|    80|China|CHN|1992 Summer|1992|Summer|Barcelona|Basketball|Basketball Men's ...|   NA|\n",
      "|  2| A Lamusi|  M| 23|   170|    60|China|CHN|2012 Summer|2012|Summer|   London|      Judo|Judo Men's Extra-...|   NA|\n",
      "+---+---------+---+---+------+------+-----+---+-----------+----+------+---------+----------+--------------------+-----+\n",
      "only showing top 2 rows\n",
      "\n"
     ]
    }
   ],
   "source": [
    "# Since dataset uses separator character \",\" inside athletes' names, forcing escape is required for parsing file\n",
    "events_df = spark.read\\\n",
    "    .option(\"header\", True)\\\n",
    "    .option(\"escape\", '\\\"')\\\n",
    "    .csv(\"/home/iceberg/datasets/olympics/athlete_events.csv\")\n",
    "events_df.show(2)"
   ]
  },
  {
   "cell_type": "code",
   "execution_count": 60,
   "id": "5e365637-a450-4dab-917a-12568d66ab00",
   "metadata": {},
   "outputs": [],
   "source": [
    "events_df.writeTo(EVENTS_TABLE).createOrReplace()"
   ]
  },
  {
   "cell_type": "code",
   "execution_count": 55,
   "id": "d15600ee-f1d6-4c07-b7f7-c381113f9951",
   "metadata": {},
   "outputs": [
    {
     "name": "stdout",
     "output_type": "stream",
     "text": [
      "+---+---------+---+---+------+------+-----+---+-----------+----+------+---------+----------+--------------------+-----+\n",
      "| ID|     Name|Sex|Age|Height|Weight| Team|NOC|      Games|Year|Season|     City|     Sport|               Event|Medal|\n",
      "+---+---------+---+---+------+------+-----+---+-----------+----+------+---------+----------+--------------------+-----+\n",
      "|  1|A Dijiang|  M| 24|   180|    80|China|CHN|1992 Summer|1992|Summer|Barcelona|Basketball|Basketball Men's ...|   NA|\n",
      "|  2| A Lamusi|  M| 23|   170|    60|China|CHN|2012 Summer|2012|Summer|   London|      Judo|Judo Men's Extra-...|   NA|\n",
      "+---+---------+---+---+------+------+-----+---+-----------+----+------+---------+----------+--------------------+-----+\n",
      "only showing top 2 rows\n",
      "\n"
     ]
    }
   ],
   "source": [
    "spark.read.table(EVENTS_TABLE).show(2)"
   ]
  },
  {
   "cell_type": "code",
   "execution_count": 29,
   "id": "5ddd3400-6591-495e-85c9-7d8c955acaf2",
   "metadata": {},
   "outputs": [
    {
     "name": "stdout",
     "output_type": "stream",
     "text": [
      "+---+-----------+--------------------+\n",
      "|NOC|     region|               notes|\n",
      "+---+-----------+--------------------+\n",
      "|AFG|Afghanistan|                null|\n",
      "|AHO|    Curacao|Netherlands Antilles|\n",
      "+---+-----------+--------------------+\n",
      "only showing top 2 rows\n",
      "\n"
     ]
    }
   ],
   "source": [
    "regions_df = spark.read.option(\"header\", True).csv(\"/home/iceberg/datasets/olympics/noc_regions.csv\")\n",
    "regions_df.show(2)"
   ]
  },
  {
   "cell_type": "code",
   "execution_count": 32,
   "id": "de8ebbe9-985e-40e9-b462-d7aedf6d6479",
   "metadata": {},
   "outputs": [],
   "source": [
    "regions_df.writeTo(REGIONS_TABLE).create()"
   ]
  },
  {
   "cell_type": "code",
   "execution_count": 33,
   "id": "93775bd1-b03d-4f08-a71c-077a494d13fd",
   "metadata": {},
   "outputs": [
    {
     "name": "stdout",
     "output_type": "stream",
     "text": [
      "+---+-----------+--------------------+\n",
      "|NOC|     region|               notes|\n",
      "+---+-----------+--------------------+\n",
      "|AFG|Afghanistan|                null|\n",
      "|AHO|    Curacao|Netherlands Antilles|\n",
      "|ALB|    Albania|                null|\n",
      "|ALG|    Algeria|                null|\n",
      "|AND|    Andorra|                null|\n",
      "+---+-----------+--------------------+\n",
      "only showing top 5 rows\n",
      "\n"
     ]
    }
   ],
   "source": [
    "spark.read.table(REGIONS_TABLE).show(5)"
   ]
  },
  {
   "cell_type": "markdown",
   "id": "1da0a3d2-1084-491e-916f-87a1a37dc6b9",
   "metadata": {},
   "source": [
    "# 3. Create and populate 'sales' data model"
   ]
  },
  {
   "cell_type": "code",
   "execution_count": 67,
   "id": "21164eb2-df10-4a18-b38d-b6cde145028d",
   "metadata": {},
   "outputs": [],
   "source": [
    "SALES_TABLE=\"hms.data_db.sales_summary\""
   ]
  },
  {
   "cell_type": "code",
   "execution_count": 68,
   "id": "679bce91-a280-453f-9870-ac33a249672b",
   "metadata": {},
   "outputs": [
    {
     "name": "stdout",
     "output_type": "stream",
     "text": [
      "+-------------------+----------------------+--------------------+----------------+---------------------+----------------+-------------+----------------+-----------+--------+-------------------+\n",
      "|ProductCategoryName|ProductSubcategoryName|         ProductName|    CustomerName|SalesTerritoryCountry|SalesOrderNumber|OrderQuantity|TotalProductCost|SalesAmount|  TaxAmt|          OrderDate|\n",
      "+-------------------+----------------------+--------------------+----------------+---------------------+----------------+-------------+----------------+-----------+--------+-------------------+\n",
      "|              Bikes|            Road Bikes|    Road-150 Red, 62|     Cole Watson|               Canada|         SO43697|            1|       2171.2942|    3578.27|286.2616|2010-12-29 00:00:00|\n",
      "|              Bikes|        Mountain Bikes|Mountain-100 Silv...|Rachael Martinez|               France|         SO43698|            1|       1912.1544|    3399.99|271.9992|2010-12-29 00:00:00|\n",
      "+-------------------+----------------------+--------------------+----------------+---------------------+----------------+-------------+----------------+-----------+--------+-------------------+\n",
      "only showing top 2 rows\n",
      "\n"
     ]
    }
   ],
   "source": [
    "# loading parquet file from local storage\n",
    "sales_df = spark.read.parquet(\"/home/iceberg/datasets/sales\")\n",
    "sales_df.show(2)"
   ]
  },
  {
   "cell_type": "code",
   "execution_count": 69,
   "id": "f2146507-015b-4a12-b226-b2014238c560",
   "metadata": {},
   "outputs": [],
   "source": [
    "# Create Iceberg table\n",
    "sales_df.writeTo(SALES_TABLE).createOrReplace()"
   ]
  },
  {
   "cell_type": "code",
   "execution_count": 70,
   "id": "dc457988-d096-4186-8c35-49c35d35e8c5",
   "metadata": {},
   "outputs": [
    {
     "name": "stdout",
     "output_type": "stream",
     "text": [
      "+-------------------+----------------------+--------------------+----------------+---------------------+----------------+-------------+----------------+-----------+--------+-------------------+\n",
      "|ProductCategoryName|ProductSubcategoryName|         ProductName|    CustomerName|SalesTerritoryCountry|SalesOrderNumber|OrderQuantity|TotalProductCost|SalesAmount|  TaxAmt|          OrderDate|\n",
      "+-------------------+----------------------+--------------------+----------------+---------------------+----------------+-------------+----------------+-----------+--------+-------------------+\n",
      "|              Bikes|            Road Bikes|    Road-150 Red, 62|     Cole Watson|               Canada|         SO43697|            1|       2171.2942|    3578.27|286.2616|2010-12-29 00:00:00|\n",
      "|              Bikes|        Mountain Bikes|Mountain-100 Silv...|Rachael Martinez|               France|         SO43698|            1|       1912.1544|    3399.99|271.9992|2010-12-29 00:00:00|\n",
      "+-------------------+----------------------+--------------------+----------------+---------------------+----------------+-------------+----------------+-----------+--------+-------------------+\n",
      "only showing top 2 rows\n",
      "\n"
     ]
    }
   ],
   "source": [
    "# Read Iceberg table\n",
    "spark.read.table(SALES_TABLE).show(2)"
   ]
  },
  {
   "cell_type": "markdown",
   "id": "a768982c-8bec-4274-9df3-be5613005d0b",
   "metadata": {},
   "source": [
    "# 4. Create and populate dummy 'trips' data model"
   ]
  },
  {
   "cell_type": "code",
   "execution_count": 34,
   "id": "50670488-3ef3-4099-afae-6e6e261a4513",
   "metadata": {},
   "outputs": [],
   "source": [
    "TAXIS_TABLE=\"hms.data_db.trips\""
   ]
  },
  {
   "cell_type": "code",
   "execution_count": 35,
   "id": "36a8b721-65cb-401e-9aca-06dfbe534f25",
   "metadata": {},
   "outputs": [
    {
     "data": {
      "text/html": [
       "<table>\n",
       "    <tr>\n",
       "    </tr>\n",
       "</table>"
      ],
      "text/plain": [
       "++\n",
       "||\n",
       "++\n",
       "++"
      ]
     },
     "execution_count": 35,
     "metadata": {},
     "output_type": "execute_result"
    }
   ],
   "source": [
    "%%sql\n",
    "CREATE TABLE hms.data_db.trips\n",
    "(\n",
    "  vendor_id bigint,\n",
    "  trip_id bigint,\n",
    "  trip_distance float,\n",
    "  fare_amount double,\n",
    "  store_and_fwd_flag string\n",
    ")\n",
    "PARTITIONED BY (vendor_id);"
   ]
  },
  {
   "cell_type": "code",
   "execution_count": 36,
   "id": "3c108d3d-b1d0-4af6-b9bf-bc9d2bfecfa9",
   "metadata": {},
   "outputs": [
    {
     "data": {
      "text/html": [
       "<table>\n",
       "    <tr>\n",
       "    </tr>\n",
       "</table>"
      ],
      "text/plain": [
       "++\n",
       "||\n",
       "++\n",
       "++"
      ]
     },
     "execution_count": 36,
     "metadata": {},
     "output_type": "execute_result"
    }
   ],
   "source": [
    "%%sql\n",
    "INSERT INTO hms.data_db.trips\n",
    "VALUES (1, 1000371, 1.8, 15.32, 'N'), (2, 1000372, 2.5, 22.15, 'N'), (2, 1000373, 0.9, 9.01, 'N'), (1, 1000374, 8.4, 42.13, 'Y');"
   ]
  },
  {
   "cell_type": "code",
   "execution_count": 37,
   "id": "7d83b01d-07e9-495c-9a44-a2feb454e272",
   "metadata": {},
   "outputs": [
    {
     "data": {
      "text/html": [
       "<table>\n",
       "    <tr>\n",
       "        <th>vendor_id</th>\n",
       "        <th>trip_id</th>\n",
       "        <th>trip_distance</th>\n",
       "        <th>fare_amount</th>\n",
       "        <th>store_and_fwd_flag</th>\n",
       "    </tr>\n",
       "    <tr>\n",
       "        <td>1</td>\n",
       "        <td>1000371</td>\n",
       "        <td>1.7999999523162842</td>\n",
       "        <td>15.32</td>\n",
       "        <td>N</td>\n",
       "    </tr>\n",
       "    <tr>\n",
       "        <td>1</td>\n",
       "        <td>1000374</td>\n",
       "        <td>8.399999618530273</td>\n",
       "        <td>42.13</td>\n",
       "        <td>Y</td>\n",
       "    </tr>\n",
       "    <tr>\n",
       "        <td>2</td>\n",
       "        <td>1000372</td>\n",
       "        <td>2.5</td>\n",
       "        <td>22.15</td>\n",
       "        <td>N</td>\n",
       "    </tr>\n",
       "    <tr>\n",
       "        <td>2</td>\n",
       "        <td>1000373</td>\n",
       "        <td>0.8999999761581421</td>\n",
       "        <td>9.01</td>\n",
       "        <td>N</td>\n",
       "    </tr>\n",
       "</table>"
      ],
      "text/plain": [
       "+-----------+---------+--------------------+-------------+--------------------+\n",
       "| vendor_id | trip_id |      trip_distance | fare_amount | store_and_fwd_flag |\n",
       "+-----------+---------+--------------------+-------------+--------------------+\n",
       "|         1 | 1000371 | 1.7999999523162842 |       15.32 |                  N |\n",
       "|         1 | 1000374 |  8.399999618530273 |       42.13 |                  Y |\n",
       "|         2 | 1000372 |                2.5 |       22.15 |                  N |\n",
       "|         2 | 1000373 | 0.8999999761581421 |        9.01 |                  N |\n",
       "+-----------+---------+--------------------+-------------+--------------------+"
      ]
     },
     "execution_count": 37,
     "metadata": {},
     "output_type": "execute_result"
    }
   ],
   "source": [
    "%%sql\n",
    "SELECT * FROM  hms.data_db.trips;"
   ]
  }
 ],
 "metadata": {
  "kernelspec": {
   "display_name": "Python 3 (ipykernel)",
   "language": "python",
   "name": "python3"
  },
  "language_info": {
   "codemirror_mode": {
    "name": "ipython",
    "version": 3
   },
   "file_extension": ".py",
   "mimetype": "text/x-python",
   "name": "python",
   "nbconvert_exporter": "python",
   "pygments_lexer": "ipython3",
   "version": "3.9.17"
  }
 },
 "nbformat": 4,
 "nbformat_minor": 5
}
