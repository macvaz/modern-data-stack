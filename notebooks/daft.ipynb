{
 "cells": [
  {
   "cell_type": "code",
   "execution_count": 1,
   "id": "c8709888-f348-42cb-b80c-c761c7ab7d57",
   "metadata": {},
   "outputs": [
    {
     "name": "stdout",
     "output_type": "stream",
     "text": [
      "Collecting daft\n",
      "  Downloading daft-0.4.10-cp39-abi3-manylinux_2_28_x86_64.whl (38.6 MB)\n",
      "\u001b[2K     \u001b[90m━━━━━━━━━━━━━━━━━━━━━━━━━━━━━━━━━━━━━━━\u001b[0m \u001b[32m38.6/38.6 MB\u001b[0m \u001b[31m352.6 kB/s\u001b[0m eta \u001b[36m0:00:00\u001b[0m00:01\u001b[0m00:03\u001b[0m\n",
      "\u001b[?25hRequirement already satisfied: importlib-metadata in /usr/local/lib/python3.9/site-packages (from daft) (6.8.0)\n",
      "Requirement already satisfied: pyarrow>=8.0.0 in /usr/local/lib/python3.9/site-packages (from daft) (12.0.1)\n",
      "Collecting tqdm\n",
      "  Downloading tqdm-4.67.1-py3-none-any.whl (78 kB)\n",
      "\u001b[2K     \u001b[90m━━━━━━━━━━━━━━━━━━━━━━━━━━━━━━━━━━━━━━━\u001b[0m \u001b[32m78.5/78.5 kB\u001b[0m \u001b[31m466.4 kB/s\u001b[0m eta \u001b[36m0:00:00\u001b[0ma \u001b[36m0:00:01\u001b[0m\n",
      "\u001b[?25hRequirement already satisfied: fsspec in /usr/local/lib/python3.9/site-packages (from daft) (2023.6.0)\n",
      "Requirement already satisfied: typing-extensions>=4.0.0 in /usr/local/lib/python3.9/site-packages (from daft) (4.7.1)\n",
      "Requirement already satisfied: numpy>=1.16.6 in /usr/local/lib/python3.9/site-packages (from pyarrow>=8.0.0->daft) (1.26.4)\n",
      "Requirement already satisfied: zipp>=0.5 in /usr/local/lib/python3.9/site-packages (from importlib-metadata->daft) (3.16.2)\n",
      "Installing collected packages: tqdm, daft\n",
      "Successfully installed daft-0.4.10 tqdm-4.67.1\n",
      "\u001b[33mWARNING: Running pip as the 'root' user can result in broken permissions and conflicting behaviour with the system package manager. It is recommended to use a virtual environment instead: https://pip.pypa.io/warnings/venv\u001b[0m\u001b[33m\n",
      "\u001b[0m\n",
      "\u001b[1m[\u001b[0m\u001b[34;49mnotice\u001b[0m\u001b[1;39;49m]\u001b[0m\u001b[39;49m A new release of pip is available: \u001b[0m\u001b[31;49m23.0.1\u001b[0m\u001b[39;49m -> \u001b[0m\u001b[32;49m25.0.1\u001b[0m\n",
      "\u001b[1m[\u001b[0m\u001b[34;49mnotice\u001b[0m\u001b[1;39;49m]\u001b[0m\u001b[39;49m To update, run: \u001b[0m\u001b[32;49mpip install --upgrade pip\u001b[0m\n"
     ]
    }
   ],
   "source": [
    "!pip install daft"
   ]
  },
  {
   "cell_type": "code",
   "execution_count": 31,
   "id": "aad41bbe-d11e-43b4-9530-abb0e90f930c",
   "metadata": {},
   "outputs": [],
   "source": [
    "import daft\n",
    "from daft.io import S3Config, IOConfig\n",
    "from daft import col"
   ]
  },
  {
   "cell_type": "code",
   "execution_count": 2,
   "id": "90609a91-9adb-4e85-88d1-3f6750f3ee86",
   "metadata": {},
   "outputs": [],
   "source": [
    "s3_config = S3Config(\n",
    "    key_id='cTI5BM9ecjv6qISgGaHP', \n",
    "    access_key='gJslk7jC1IJqOpDAVoV0fPXFS0WKDcSX9zBGd3f1', \n",
    "    endpoint_url= 'http://minio:9000')\n",
    "\n",
    "io_config = IOConfig(s3=s3_config)"
   ]
  },
  {
   "cell_type": "code",
   "execution_count": 3,
   "id": "e65f7115-2bd0-46f1-afdf-501fe6eaf5e0",
   "metadata": {},
   "outputs": [],
   "source": [
    "df = daft.read_parquet(\"s3://tests/nyc/nyc/*.parquet\", io_config=io_config)"
   ]
  },
  {
   "cell_type": "code",
   "execution_count": 30,
   "id": "c16b21b0-7a39-4ad6-ab5b-b41284ec9fde",
   "metadata": {},
   "outputs": [
    {
     "data": {
      "text/html": [
       "<div>\n",
       "<table class=\"dataframe\">\n",
       "<thead><tr><th style=\"text-wrap: nowrap; max-width:192px; overflow:auto; text-align:left\">VendorID<br />Int32</th><th style=\"text-wrap: nowrap; max-width:192px; overflow:auto; text-align:left\">tpep_pickup_datetime<br />Timestamp(Microseconds, None)</th><th style=\"text-wrap: nowrap; max-width:192px; overflow:auto; text-align:left\">tpep_dropoff_datetime<br />Timestamp(Microseconds, None)</th><th style=\"text-wrap: nowrap; max-width:192px; overflow:auto; text-align:left\">passenger_count<br />Int64</th><th style=\"text-wrap: nowrap; max-width:192px; overflow:auto; text-align:left\">trip_distance<br />Float64</th><th style=\"text-wrap: nowrap; max-width:192px; overflow:auto; text-align:left\">RatecodeID<br />Int64</th><th style=\"text-wrap: nowrap; max-width:192px; overflow:auto; text-align:left\">store_and_fwd_flag<br />Utf8</th><th style=\"text-wrap: nowrap; max-width:192px; overflow:auto; text-align:left\">PULocationID<br />Int32</th><th style=\"text-wrap: nowrap; max-width:192px; overflow:auto; text-align:left\">DOLocationID<br />Int32</th><th style=\"text-wrap: nowrap; max-width:192px; overflow:auto; text-align:left\">payment_type<br />Int64</th><th style=\"text-wrap: nowrap; max-width:192px; overflow:auto; text-align:left\">fare_amount<br />Float64</th><th style=\"text-wrap: nowrap; max-width:192px; overflow:auto; text-align:left\">extra<br />Float64</th><th style=\"text-wrap: nowrap; max-width:192px; overflow:auto; text-align:left\">mta_tax<br />Float64</th><th style=\"text-wrap: nowrap; max-width:192px; overflow:auto; text-align:left\">tip_amount<br />Float64</th><th style=\"text-wrap: nowrap; max-width:192px; overflow:auto; text-align:left\">tolls_amount<br />Float64</th><th style=\"text-wrap: nowrap; max-width:192px; overflow:auto; text-align:left\">improvement_surcharge<br />Float64</th><th style=\"text-wrap: nowrap; max-width:192px; overflow:auto; text-align:left\">total_amount<br />Float64</th><th style=\"text-wrap: nowrap; max-width:192px; overflow:auto; text-align:left\">congestion_surcharge<br />Float64</th><th style=\"text-wrap: nowrap; max-width:192px; overflow:auto; text-align:left\">Airport_fee<br />Float64</th></tr></thead>\n",
       "<tbody>\n",
       "<tr><td><div style=\"text-align:left; max-width:192px; max-height:64px; overflow:auto\">2</div></td><td><div style=\"text-align:left; max-width:192px; max-height:64px; overflow:auto\">2024-01-01 00:57:55</div></td><td><div style=\"text-align:left; max-width:192px; max-height:64px; overflow:auto\">2024-01-01 01:17:43</div></td><td><div style=\"text-align:left; max-width:192px; max-height:64px; overflow:auto\">1</div></td><td><div style=\"text-align:left; max-width:192px; max-height:64px; overflow:auto\">1.72</div></td><td><div style=\"text-align:left; max-width:192px; max-height:64px; overflow:auto\">1</div></td><td><div style=\"text-align:left; max-width:192px; max-height:64px; overflow:auto\">N</div></td><td><div style=\"text-align:left; max-width:192px; max-height:64px; overflow:auto\">186</div></td><td><div style=\"text-align:left; max-width:192px; max-height:64px; overflow:auto\">79</div></td><td><div style=\"text-align:left; max-width:192px; max-height:64px; overflow:auto\">2</div></td><td><div style=\"text-align:left; max-width:192px; max-height:64px; overflow:auto\">17.7</div></td><td><div style=\"text-align:left; max-width:192px; max-height:64px; overflow:auto\">1</div></td><td><div style=\"text-align:left; max-width:192px; max-height:64px; overflow:auto\">0.5</div></td><td><div style=\"text-align:left; max-width:192px; max-height:64px; overflow:auto\">0</div></td><td><div style=\"text-align:left; max-width:192px; max-height:64px; overflow:auto\">0</div></td><td><div style=\"text-align:left; max-width:192px; max-height:64px; overflow:auto\">1</div></td><td><div style=\"text-align:left; max-width:192px; max-height:64px; overflow:auto\">22.7</div></td><td><div style=\"text-align:left; max-width:192px; max-height:64px; overflow:auto\">2.5</div></td><td><div style=\"text-align:left; max-width:192px; max-height:64px; overflow:auto\">0</div></td></tr>\n",
       "<tr><td><div style=\"text-align:left; max-width:192px; max-height:64px; overflow:auto\">1</div></td><td><div style=\"text-align:left; max-width:192px; max-height:64px; overflow:auto\">2024-01-01 00:03:00</div></td><td><div style=\"text-align:left; max-width:192px; max-height:64px; overflow:auto\">2024-01-01 00:09:36</div></td><td><div style=\"text-align:left; max-width:192px; max-height:64px; overflow:auto\">1</div></td><td><div style=\"text-align:left; max-width:192px; max-height:64px; overflow:auto\">1.8</div></td><td><div style=\"text-align:left; max-width:192px; max-height:64px; overflow:auto\">1</div></td><td><div style=\"text-align:left; max-width:192px; max-height:64px; overflow:auto\">N</div></td><td><div style=\"text-align:left; max-width:192px; max-height:64px; overflow:auto\">140</div></td><td><div style=\"text-align:left; max-width:192px; max-height:64px; overflow:auto\">236</div></td><td><div style=\"text-align:left; max-width:192px; max-height:64px; overflow:auto\">1</div></td><td><div style=\"text-align:left; max-width:192px; max-height:64px; overflow:auto\">10</div></td><td><div style=\"text-align:left; max-width:192px; max-height:64px; overflow:auto\">3.5</div></td><td><div style=\"text-align:left; max-width:192px; max-height:64px; overflow:auto\">0.5</div></td><td><div style=\"text-align:left; max-width:192px; max-height:64px; overflow:auto\">3.75</div></td><td><div style=\"text-align:left; max-width:192px; max-height:64px; overflow:auto\">0</div></td><td><div style=\"text-align:left; max-width:192px; max-height:64px; overflow:auto\">1</div></td><td><div style=\"text-align:left; max-width:192px; max-height:64px; overflow:auto\">18.75</div></td><td><div style=\"text-align:left; max-width:192px; max-height:64px; overflow:auto\">2.5</div></td><td><div style=\"text-align:left; max-width:192px; max-height:64px; overflow:auto\">0</div></td></tr>\n",
       "<tr><td><div style=\"text-align:left; max-width:192px; max-height:64px; overflow:auto\">1</div></td><td><div style=\"text-align:left; max-width:192px; max-height:64px; overflow:auto\">2024-01-01 00:17:06</div></td><td><div style=\"text-align:left; max-width:192px; max-height:64px; overflow:auto\">2024-01-01 00:35:01</div></td><td><div style=\"text-align:left; max-width:192px; max-height:64px; overflow:auto\">1</div></td><td><div style=\"text-align:left; max-width:192px; max-height:64px; overflow:auto\">4.7</div></td><td><div style=\"text-align:left; max-width:192px; max-height:64px; overflow:auto\">1</div></td><td><div style=\"text-align:left; max-width:192px; max-height:64px; overflow:auto\">N</div></td><td><div style=\"text-align:left; max-width:192px; max-height:64px; overflow:auto\">236</div></td><td><div style=\"text-align:left; max-width:192px; max-height:64px; overflow:auto\">79</div></td><td><div style=\"text-align:left; max-width:192px; max-height:64px; overflow:auto\">1</div></td><td><div style=\"text-align:left; max-width:192px; max-height:64px; overflow:auto\">23.3</div></td><td><div style=\"text-align:left; max-width:192px; max-height:64px; overflow:auto\">3.5</div></td><td><div style=\"text-align:left; max-width:192px; max-height:64px; overflow:auto\">0.5</div></td><td><div style=\"text-align:left; max-width:192px; max-height:64px; overflow:auto\">3</div></td><td><div style=\"text-align:left; max-width:192px; max-height:64px; overflow:auto\">0</div></td><td><div style=\"text-align:left; max-width:192px; max-height:64px; overflow:auto\">1</div></td><td><div style=\"text-align:left; max-width:192px; max-height:64px; overflow:auto\">31.3</div></td><td><div style=\"text-align:left; max-width:192px; max-height:64px; overflow:auto\">2.5</div></td><td><div style=\"text-align:left; max-width:192px; max-height:64px; overflow:auto\">0</div></td></tr>\n",
       "<tr><td><div style=\"text-align:left; max-width:192px; max-height:64px; overflow:auto\">1</div></td><td><div style=\"text-align:left; max-width:192px; max-height:64px; overflow:auto\">2024-01-01 00:36:38</div></td><td><div style=\"text-align:left; max-width:192px; max-height:64px; overflow:auto\">2024-01-01 00:44:56</div></td><td><div style=\"text-align:left; max-width:192px; max-height:64px; overflow:auto\">1</div></td><td><div style=\"text-align:left; max-width:192px; max-height:64px; overflow:auto\">1.4</div></td><td><div style=\"text-align:left; max-width:192px; max-height:64px; overflow:auto\">1</div></td><td><div style=\"text-align:left; max-width:192px; max-height:64px; overflow:auto\">N</div></td><td><div style=\"text-align:left; max-width:192px; max-height:64px; overflow:auto\">79</div></td><td><div style=\"text-align:left; max-width:192px; max-height:64px; overflow:auto\">211</div></td><td><div style=\"text-align:left; max-width:192px; max-height:64px; overflow:auto\">1</div></td><td><div style=\"text-align:left; max-width:192px; max-height:64px; overflow:auto\">10</div></td><td><div style=\"text-align:left; max-width:192px; max-height:64px; overflow:auto\">3.5</div></td><td><div style=\"text-align:left; max-width:192px; max-height:64px; overflow:auto\">0.5</div></td><td><div style=\"text-align:left; max-width:192px; max-height:64px; overflow:auto\">2</div></td><td><div style=\"text-align:left; max-width:192px; max-height:64px; overflow:auto\">0</div></td><td><div style=\"text-align:left; max-width:192px; max-height:64px; overflow:auto\">1</div></td><td><div style=\"text-align:left; max-width:192px; max-height:64px; overflow:auto\">17</div></td><td><div style=\"text-align:left; max-width:192px; max-height:64px; overflow:auto\">2.5</div></td><td><div style=\"text-align:left; max-width:192px; max-height:64px; overflow:auto\">0</div></td></tr>\n",
       "<tr><td><div style=\"text-align:left; max-width:192px; max-height:64px; overflow:auto\">1</div></td><td><div style=\"text-align:left; max-width:192px; max-height:64px; overflow:auto\">2024-01-01 00:46:51</div></td><td><div style=\"text-align:left; max-width:192px; max-height:64px; overflow:auto\">2024-01-01 00:52:57</div></td><td><div style=\"text-align:left; max-width:192px; max-height:64px; overflow:auto\">1</div></td><td><div style=\"text-align:left; max-width:192px; max-height:64px; overflow:auto\">0.8</div></td><td><div style=\"text-align:left; max-width:192px; max-height:64px; overflow:auto\">1</div></td><td><div style=\"text-align:left; max-width:192px; max-height:64px; overflow:auto\">N</div></td><td><div style=\"text-align:left; max-width:192px; max-height:64px; overflow:auto\">211</div></td><td><div style=\"text-align:left; max-width:192px; max-height:64px; overflow:auto\">148</div></td><td><div style=\"text-align:left; max-width:192px; max-height:64px; overflow:auto\">1</div></td><td><div style=\"text-align:left; max-width:192px; max-height:64px; overflow:auto\">7.9</div></td><td><div style=\"text-align:left; max-width:192px; max-height:64px; overflow:auto\">3.5</div></td><td><div style=\"text-align:left; max-width:192px; max-height:64px; overflow:auto\">0.5</div></td><td><div style=\"text-align:left; max-width:192px; max-height:64px; overflow:auto\">3.2</div></td><td><div style=\"text-align:left; max-width:192px; max-height:64px; overflow:auto\">0</div></td><td><div style=\"text-align:left; max-width:192px; max-height:64px; overflow:auto\">1</div></td><td><div style=\"text-align:left; max-width:192px; max-height:64px; overflow:auto\">16.1</div></td><td><div style=\"text-align:left; max-width:192px; max-height:64px; overflow:auto\">2.5</div></td><td><div style=\"text-align:left; max-width:192px; max-height:64px; overflow:auto\">0</div></td></tr>\n",
       "<tr><td><div style=\"text-align:left; max-width:192px; max-height:64px; overflow:auto\">1</div></td><td><div style=\"text-align:left; max-width:192px; max-height:64px; overflow:auto\">2024-01-01 00:54:08</div></td><td><div style=\"text-align:left; max-width:192px; max-height:64px; overflow:auto\">2024-01-01 01:26:31</div></td><td><div style=\"text-align:left; max-width:192px; max-height:64px; overflow:auto\">1</div></td><td><div style=\"text-align:left; max-width:192px; max-height:64px; overflow:auto\">4.7</div></td><td><div style=\"text-align:left; max-width:192px; max-height:64px; overflow:auto\">1</div></td><td><div style=\"text-align:left; max-width:192px; max-height:64px; overflow:auto\">N</div></td><td><div style=\"text-align:left; max-width:192px; max-height:64px; overflow:auto\">148</div></td><td><div style=\"text-align:left; max-width:192px; max-height:64px; overflow:auto\">141</div></td><td><div style=\"text-align:left; max-width:192px; max-height:64px; overflow:auto\">1</div></td><td><div style=\"text-align:left; max-width:192px; max-height:64px; overflow:auto\">29.6</div></td><td><div style=\"text-align:left; max-width:192px; max-height:64px; overflow:auto\">3.5</div></td><td><div style=\"text-align:left; max-width:192px; max-height:64px; overflow:auto\">0.5</div></td><td><div style=\"text-align:left; max-width:192px; max-height:64px; overflow:auto\">6.9</div></td><td><div style=\"text-align:left; max-width:192px; max-height:64px; overflow:auto\">0</div></td><td><div style=\"text-align:left; max-width:192px; max-height:64px; overflow:auto\">1</div></td><td><div style=\"text-align:left; max-width:192px; max-height:64px; overflow:auto\">41.5</div></td><td><div style=\"text-align:left; max-width:192px; max-height:64px; overflow:auto\">2.5</div></td><td><div style=\"text-align:left; max-width:192px; max-height:64px; overflow:auto\">0</div></td></tr>\n",
       "<tr><td><div style=\"text-align:left; max-width:192px; max-height:64px; overflow:auto\">2</div></td><td><div style=\"text-align:left; max-width:192px; max-height:64px; overflow:auto\">2024-01-01 00:49:44</div></td><td><div style=\"text-align:left; max-width:192px; max-height:64px; overflow:auto\">2024-01-01 01:15:47</div></td><td><div style=\"text-align:left; max-width:192px; max-height:64px; overflow:auto\">2</div></td><td><div style=\"text-align:left; max-width:192px; max-height:64px; overflow:auto\">10.82</div></td><td><div style=\"text-align:left; max-width:192px; max-height:64px; overflow:auto\">1</div></td><td><div style=\"text-align:left; max-width:192px; max-height:64px; overflow:auto\">N</div></td><td><div style=\"text-align:left; max-width:192px; max-height:64px; overflow:auto\">138</div></td><td><div style=\"text-align:left; max-width:192px; max-height:64px; overflow:auto\">181</div></td><td><div style=\"text-align:left; max-width:192px; max-height:64px; overflow:auto\">1</div></td><td><div style=\"text-align:left; max-width:192px; max-height:64px; overflow:auto\">45.7</div></td><td><div style=\"text-align:left; max-width:192px; max-height:64px; overflow:auto\">6</div></td><td><div style=\"text-align:left; max-width:192px; max-height:64px; overflow:auto\">0.5</div></td><td><div style=\"text-align:left; max-width:192px; max-height:64px; overflow:auto\">10</div></td><td><div style=\"text-align:left; max-width:192px; max-height:64px; overflow:auto\">0</div></td><td><div style=\"text-align:left; max-width:192px; max-height:64px; overflow:auto\">1</div></td><td><div style=\"text-align:left; max-width:192px; max-height:64px; overflow:auto\">64.95</div></td><td><div style=\"text-align:left; max-width:192px; max-height:64px; overflow:auto\">0</div></td><td><div style=\"text-align:left; max-width:192px; max-height:64px; overflow:auto\">1.75</div></td></tr>\n",
       "<tr><td><div style=\"text-align:left; max-width:192px; max-height:64px; overflow:auto\">1</div></td><td><div style=\"text-align:left; max-width:192px; max-height:64px; overflow:auto\">2024-01-01 00:30:40</div></td><td><div style=\"text-align:left; max-width:192px; max-height:64px; overflow:auto\">2024-01-01 00:58:40</div></td><td><div style=\"text-align:left; max-width:192px; max-height:64px; overflow:auto\">0</div></td><td><div style=\"text-align:left; max-width:192px; max-height:64px; overflow:auto\">3</div></td><td><div style=\"text-align:left; max-width:192px; max-height:64px; overflow:auto\">1</div></td><td><div style=\"text-align:left; max-width:192px; max-height:64px; overflow:auto\">N</div></td><td><div style=\"text-align:left; max-width:192px; max-height:64px; overflow:auto\">246</div></td><td><div style=\"text-align:left; max-width:192px; max-height:64px; overflow:auto\">231</div></td><td><div style=\"text-align:left; max-width:192px; max-height:64px; overflow:auto\">2</div></td><td><div style=\"text-align:left; max-width:192px; max-height:64px; overflow:auto\">25.4</div></td><td><div style=\"text-align:left; max-width:192px; max-height:64px; overflow:auto\">3.5</div></td><td><div style=\"text-align:left; max-width:192px; max-height:64px; overflow:auto\">0.5</div></td><td><div style=\"text-align:left; max-width:192px; max-height:64px; overflow:auto\">0</div></td><td><div style=\"text-align:left; max-width:192px; max-height:64px; overflow:auto\">0</div></td><td><div style=\"text-align:left; max-width:192px; max-height:64px; overflow:auto\">1</div></td><td><div style=\"text-align:left; max-width:192px; max-height:64px; overflow:auto\">30.4</div></td><td><div style=\"text-align:left; max-width:192px; max-height:64px; overflow:auto\">2.5</div></td><td><div style=\"text-align:left; max-width:192px; max-height:64px; overflow:auto\">0</div></td></tr>\n",
       "</tbody>\n",
       "</table>\n",
       "<small>(Showing first 8 rows)</small>\n",
       "</div>"
      ],
      "text/plain": [
       "╭──────────┬─────────────────────┬─────────────────────┬─────────────┬──────────────┬────────────────────┬─────────────╮\n",
       "│ VendorID ┆ tpep_pickup_datetim ┆ tpep_dropoff_dateti ┆      …      ┆ total_amount ┆ congestion_surchar ┆ Airport_fee │\n",
       "│ ---      ┆ e                   ┆ me                  ┆             ┆ ---          ┆ ge                 ┆ ---         │\n",
       "│ Int32    ┆ ---                 ┆ ---                 ┆ (13 hidden) ┆ Float64      ┆ ---                ┆ Float64     │\n",
       "│          ┆ Timestamp(Microseco ┆ Timestamp(Microseco ┆             ┆              ┆ Float64            ┆             │\n",
       "│          ┆ nds, None)          ┆ nds, None)          ┆             ┆              ┆                    ┆             │\n",
       "╞══════════╪═════════════════════╪═════════════════════╪═════════════╪══════════════╪════════════════════╪═════════════╡\n",
       "│ 2        ┆ 2024-01-01 00:57:55 ┆ 2024-01-01 01:17:43 ┆ …           ┆ 22.7         ┆ 2.5                ┆ 0           │\n",
       "├╌╌╌╌╌╌╌╌╌╌┼╌╌╌╌╌╌╌╌╌╌╌╌╌╌╌╌╌╌╌╌╌┼╌╌╌╌╌╌╌╌╌╌╌╌╌╌╌╌╌╌╌╌╌┼╌╌╌╌╌╌╌╌╌╌╌╌╌┼╌╌╌╌╌╌╌╌╌╌╌╌╌╌┼╌╌╌╌╌╌╌╌╌╌╌╌╌╌╌╌╌╌╌╌┼╌╌╌╌╌╌╌╌╌╌╌╌╌┤\n",
       "│ 1        ┆ 2024-01-01 00:03:00 ┆ 2024-01-01 00:09:36 ┆ …           ┆ 18.75        ┆ 2.5                ┆ 0           │\n",
       "├╌╌╌╌╌╌╌╌╌╌┼╌╌╌╌╌╌╌╌╌╌╌╌╌╌╌╌╌╌╌╌╌┼╌╌╌╌╌╌╌╌╌╌╌╌╌╌╌╌╌╌╌╌╌┼╌╌╌╌╌╌╌╌╌╌╌╌╌┼╌╌╌╌╌╌╌╌╌╌╌╌╌╌┼╌╌╌╌╌╌╌╌╌╌╌╌╌╌╌╌╌╌╌╌┼╌╌╌╌╌╌╌╌╌╌╌╌╌┤\n",
       "│ 1        ┆ 2024-01-01 00:17:06 ┆ 2024-01-01 00:35:01 ┆ …           ┆ 31.3         ┆ 2.5                ┆ 0           │\n",
       "├╌╌╌╌╌╌╌╌╌╌┼╌╌╌╌╌╌╌╌╌╌╌╌╌╌╌╌╌╌╌╌╌┼╌╌╌╌╌╌╌╌╌╌╌╌╌╌╌╌╌╌╌╌╌┼╌╌╌╌╌╌╌╌╌╌╌╌╌┼╌╌╌╌╌╌╌╌╌╌╌╌╌╌┼╌╌╌╌╌╌╌╌╌╌╌╌╌╌╌╌╌╌╌╌┼╌╌╌╌╌╌╌╌╌╌╌╌╌┤\n",
       "│ 1        ┆ 2024-01-01 00:36:38 ┆ 2024-01-01 00:44:56 ┆ …           ┆ 17           ┆ 2.5                ┆ 0           │\n",
       "├╌╌╌╌╌╌╌╌╌╌┼╌╌╌╌╌╌╌╌╌╌╌╌╌╌╌╌╌╌╌╌╌┼╌╌╌╌╌╌╌╌╌╌╌╌╌╌╌╌╌╌╌╌╌┼╌╌╌╌╌╌╌╌╌╌╌╌╌┼╌╌╌╌╌╌╌╌╌╌╌╌╌╌┼╌╌╌╌╌╌╌╌╌╌╌╌╌╌╌╌╌╌╌╌┼╌╌╌╌╌╌╌╌╌╌╌╌╌┤\n",
       "│ 1        ┆ 2024-01-01 00:46:51 ┆ 2024-01-01 00:52:57 ┆ …           ┆ 16.1         ┆ 2.5                ┆ 0           │\n",
       "├╌╌╌╌╌╌╌╌╌╌┼╌╌╌╌╌╌╌╌╌╌╌╌╌╌╌╌╌╌╌╌╌┼╌╌╌╌╌╌╌╌╌╌╌╌╌╌╌╌╌╌╌╌╌┼╌╌╌╌╌╌╌╌╌╌╌╌╌┼╌╌╌╌╌╌╌╌╌╌╌╌╌╌┼╌╌╌╌╌╌╌╌╌╌╌╌╌╌╌╌╌╌╌╌┼╌╌╌╌╌╌╌╌╌╌╌╌╌┤\n",
       "│ 1        ┆ 2024-01-01 00:54:08 ┆ 2024-01-01 01:26:31 ┆ …           ┆ 41.5         ┆ 2.5                ┆ 0           │\n",
       "├╌╌╌╌╌╌╌╌╌╌┼╌╌╌╌╌╌╌╌╌╌╌╌╌╌╌╌╌╌╌╌╌┼╌╌╌╌╌╌╌╌╌╌╌╌╌╌╌╌╌╌╌╌╌┼╌╌╌╌╌╌╌╌╌╌╌╌╌┼╌╌╌╌╌╌╌╌╌╌╌╌╌╌┼╌╌╌╌╌╌╌╌╌╌╌╌╌╌╌╌╌╌╌╌┼╌╌╌╌╌╌╌╌╌╌╌╌╌┤\n",
       "│ 2        ┆ 2024-01-01 00:49:44 ┆ 2024-01-01 01:15:47 ┆ …           ┆ 64.95        ┆ 0                  ┆ 1.75        │\n",
       "├╌╌╌╌╌╌╌╌╌╌┼╌╌╌╌╌╌╌╌╌╌╌╌╌╌╌╌╌╌╌╌╌┼╌╌╌╌╌╌╌╌╌╌╌╌╌╌╌╌╌╌╌╌╌┼╌╌╌╌╌╌╌╌╌╌╌╌╌┼╌╌╌╌╌╌╌╌╌╌╌╌╌╌┼╌╌╌╌╌╌╌╌╌╌╌╌╌╌╌╌╌╌╌╌┼╌╌╌╌╌╌╌╌╌╌╌╌╌┤\n",
       "│ 1        ┆ 2024-01-01 00:30:40 ┆ 2024-01-01 00:58:40 ┆ …           ┆ 30.4         ┆ 2.5                ┆ 0           │\n",
       "╰──────────┴─────────────────────┴─────────────────────┴─────────────┴──────────────┴────────────────────┴─────────────╯\n",
       "\n",
       "(Showing first 8 rows)"
      ]
     },
     "metadata": {},
     "output_type": "display_data"
    }
   ],
   "source": [
    "df.show()"
   ]
  },
  {
   "cell_type": "code",
   "execution_count": 38,
   "id": "e4e4018c-ceae-4f5d-a894-6dee9261ae73",
   "metadata": {},
   "outputs": [],
   "source": [
    "two_pass_1 = daft.sql(\"select * from df where passenger_count = 1\")\n",
    "two_pass_2 = daft.sql(\"select * from df where passenger_count = 1\")"
   ]
  },
  {
   "cell_type": "code",
   "execution_count": 39,
   "id": "c4a94f4c-3ff9-41e4-8ac4-5107d7dba36c",
   "metadata": {},
   "outputs": [],
   "source": [
    "joint_2_pass = two_pass_1.join(two_pass_2, on=[col(\"tpep_pickup_datetime\"), col(\"tpep_dropoff_datetime\"), col(\"trip_distance\")])"
   ]
  },
  {
   "cell_type": "code",
   "execution_count": null,
   "id": "dfe9fdf3-68e6-4b67-873f-9636ac0804d1",
   "metadata": {},
   "outputs": [
    {
     "data": {
      "application/vnd.jupyter.widget-view+json": {
       "model_id": "e57873173f054f34bd86e7b47aae0370",
       "version_major": 2,
       "version_minor": 0
      },
      "text/plain": [
       "🗡️ 🐟 ScanTaskSource: 00:00 "
      ]
     },
     "metadata": {},
     "output_type": "display_data"
    },
    {
     "data": {
      "application/vnd.jupyter.widget-view+json": {
       "model_id": "20174b253ab74c3d9e7084e3f9a9c6ae",
       "version_major": 2,
       "version_minor": 0
      },
      "text/plain": [
       "🗡️ 🐟 Project: 00:00 "
      ]
     },
     "metadata": {},
     "output_type": "display_data"
    },
    {
     "data": {
      "application/vnd.jupyter.widget-view+json": {
       "model_id": "",
       "version_major": 2,
       "version_minor": 0
      },
      "text/plain": [
       "🗡️ 🐟 ScanTaskSource: 00:00 "
      ]
     },
     "metadata": {},
     "output_type": "display_data"
    },
    {
     "data": {
      "application/vnd.jupyter.widget-view+json": {
       "model_id": "",
       "version_major": 2,
       "version_minor": 0
      },
      "text/plain": [
       "🗡️ 🐟 HashJoinBuild: 00:00 "
      ]
     },
     "metadata": {},
     "output_type": "display_data"
    },
    {
     "data": {
      "application/vnd.jupyter.widget-view+json": {
       "model_id": "eb6ef155b7ea4447bbee4ddf9d34a13a",
       "version_major": 2,
       "version_minor": 0
      },
      "text/plain": [
       "🗡️ 🐟 InnerHashJoinProbe: 00:00 "
      ]
     },
     "metadata": {},
     "output_type": "display_data"
    },
    {
     "data": {
      "application/vnd.jupyter.widget-view+json": {
       "model_id": "594f52784eb04247b4239fb3239faa44",
       "version_major": 2,
       "version_minor": 0
      },
      "text/plain": [
       "🗡️ 🐟 ParquetSink: 00:00 "
      ]
     },
     "metadata": {},
     "output_type": "display_data"
    }
   ],
   "source": [
    "joint_2_pass.write_parquet(\"s3://tests/new/joint_1_passangers\", io_config=io_config)"
   ]
  },
  {
   "cell_type": "code",
   "execution_count": 18,
   "id": "b582caef-2ad9-410f-8d7d-a183ee621a39",
   "metadata": {},
   "outputs": [
    {
     "data": {
      "application/vnd.jupyter.widget-view+json": {
       "model_id": "",
       "version_major": 2,
       "version_minor": 0
      },
      "text/plain": [
       "🗡️ 🐟 ParquetSink: 00:00 "
      ]
     },
     "metadata": {},
     "output_type": "display_data"
    },
    {
     "data": {
      "application/vnd.jupyter.widget-view+json": {
       "model_id": "",
       "version_major": 2,
       "version_minor": 0
      },
      "text/plain": [
       "🗡️ 🐟 ScanTaskSource: 00:00 "
      ]
     },
     "metadata": {},
     "output_type": "display_data"
    },
    {
     "data": {
      "text/html": [
       "<div>\n",
       "<table class=\"dataframe\">\n",
       "<thead><tr><th style=\"text-wrap: nowrap; max-width:192px; overflow:auto; text-align:left\">path<br />Utf8</th></tr></thead>\n",
       "<tbody>\n",
       "<tr><td><div style=\"text-align:left; max-width:192px; max-height:64px; overflow:auto\">tests/new/only_1_passangers/e7123f53-b50f-41e9-aabc-3513928fca80-0.parquet</div></td></tr>\n",
       "<tr><td><div style=\"text-align:left; max-width:192px; max-height:64px; overflow:auto\">tests/new/only_1_passangers/1a8d1da5-f996-4ed8-8db1-1c72b016be05-1.parquet</div></td></tr>\n",
       "</tbody>\n",
       "</table>\n",
       "<small>(Showing first 2 of 2 rows)</small>\n",
       "</div>"
      ],
      "text/plain": [
       "╭────────────────────────────────╮\n",
       "│ path                           │\n",
       "│ ---                            │\n",
       "│ Utf8                           │\n",
       "╞════════════════════════════════╡\n",
       "│ tests/new/only_1_passangers/e… │\n",
       "├╌╌╌╌╌╌╌╌╌╌╌╌╌╌╌╌╌╌╌╌╌╌╌╌╌╌╌╌╌╌╌╌┤\n",
       "│ tests/new/only_1_passangers/1… │\n",
       "╰────────────────────────────────╯\n",
       "\n",
       "(Showing first 2 of 2 rows)"
      ]
     },
     "execution_count": 18,
     "metadata": {},
     "output_type": "execute_result"
    }
   ],
   "source": [
    "%timeit\n",
    "fil.write_parquet(\"s3://tests/new/only_1_passangers\", io_config=io_config)"
   ]
  },
  {
   "cell_type": "code",
   "execution_count": 11,
   "id": "f3fdd19a-817a-414b-bce0-53460068a86f",
   "metadata": {},
   "outputs": [
    {
     "data": {
      "text/html": [
       "<div>\n",
       "<table class=\"dataframe\">\n",
       "<thead><tr><th style=\"text-wrap: nowrap; max-width:192px; overflow:auto; text-align:left\">trip_distance<br />Float64</th></tr></thead>\n",
       "<tbody>\n",
       "<tr><td><div style=\"text-align:left; max-width:192px; max-height:64px; overflow:auto\">10.82</div></td></tr>\n",
       "<tr><td><div style=\"text-align:left; max-width:192px; max-height:64px; overflow:auto\">0.75</div></td></tr>\n",
       "<tr><td><div style=\"text-align:left; max-width:192px; max-height:64px; overflow:auto\">1.2</div></td></tr>\n",
       "<tr><td><div style=\"text-align:left; max-width:192px; max-height:64px; overflow:auto\">8.2</div></td></tr>\n",
       "<tr><td><div style=\"text-align:left; max-width:192px; max-height:64px; overflow:auto\">0.4</div></td></tr>\n",
       "<tr><td><div style=\"text-align:left; max-width:192px; max-height:64px; overflow:auto\">1.7</div></td></tr>\n",
       "<tr><td><div style=\"text-align:left; max-width:192px; max-height:64px; overflow:auto\">1.08</div></td></tr>\n",
       "<tr><td><div style=\"text-align:left; max-width:192px; max-height:64px; overflow:auto\">2.22</div></td></tr>\n",
       "</tbody>\n",
       "</table>\n",
       "<small>(Showing first 8 rows)</small>\n",
       "</div>"
      ],
      "text/plain": [
       "╭───────────────╮\n",
       "│ trip_distance │\n",
       "│ ---           │\n",
       "│ Float64       │\n",
       "╞═══════════════╡\n",
       "│ 10.82         │\n",
       "├╌╌╌╌╌╌╌╌╌╌╌╌╌╌╌┤\n",
       "│ 0.75          │\n",
       "├╌╌╌╌╌╌╌╌╌╌╌╌╌╌╌┤\n",
       "│ 1.2           │\n",
       "├╌╌╌╌╌╌╌╌╌╌╌╌╌╌╌┤\n",
       "│ 8.2           │\n",
       "├╌╌╌╌╌╌╌╌╌╌╌╌╌╌╌┤\n",
       "│ 0.4           │\n",
       "├╌╌╌╌╌╌╌╌╌╌╌╌╌╌╌┤\n",
       "│ 1.7           │\n",
       "├╌╌╌╌╌╌╌╌╌╌╌╌╌╌╌┤\n",
       "│ 1.08          │\n",
       "├╌╌╌╌╌╌╌╌╌╌╌╌╌╌╌┤\n",
       "│ 2.22          │\n",
       "╰───────────────╯\n",
       "\n",
       "(Showing first 8 rows)"
      ]
     },
     "metadata": {},
     "output_type": "display_data"
    }
   ],
   "source": [
    "fil.show()"
   ]
  }
 ],
 "metadata": {
  "kernelspec": {
   "display_name": "Python 3 (ipykernel)",
   "language": "python",
   "name": "python3"
  },
  "language_info": {
   "codemirror_mode": {
    "name": "ipython",
    "version": 3
   },
   "file_extension": ".py",
   "mimetype": "text/x-python",
   "name": "python",
   "nbconvert_exporter": "python",
   "pygments_lexer": "ipython3",
   "version": "3.9.17"
  }
 },
 "nbformat": 4,
 "nbformat_minor": 5
}
